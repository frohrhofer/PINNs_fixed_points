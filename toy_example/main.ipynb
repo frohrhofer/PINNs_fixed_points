{
 "cells": [
  {
   "cell_type": "markdown",
   "metadata": {},
   "source": [
    "### Load and Modify Configuration File"
   ]
  },
  {
   "cell_type": "code",
   "execution_count": 1,
   "metadata": {},
   "outputs": [
    {
     "name": "stdout",
     "output_type": "stream",
     "text": [
      "version : default\n",
      "seed : 1\n",
      "y0 : 0.1\n",
      "T : 8\n",
      "N_col : 1024\n",
      "N_hidden : 2\n",
      "N_neurons : 20\n",
      "activation : swish\n",
      "N_epochs : 10000\n",
      "learning_rate : 0.001\n",
      "decay_rate : 1.0\n",
      "freq_log : 10\n",
      "freq_print : 100\n",
      "keys_print : ['loss']\n"
     ]
    }
   ],
   "source": [
    "from configs.config_loader import load_config\n",
    "config = load_config('configs/default.yaml')"
   ]
  },
  {
   "cell_type": "markdown",
   "metadata": {},
   "source": [
    "### Initialize Physics-Informed Neural Network"
   ]
  },
  {
   "cell_type": "code",
   "execution_count": 2,
   "metadata": {},
   "outputs": [
    {
     "name": "stdout",
     "output_type": "stream",
     "text": [
      "Model: \"nested_PINN\"\n",
      "_________________________________________________________________\n",
      " Layer (type)                Output Shape              Param #   \n",
      "=================================================================\n",
      " dense (Dense)               (None, 20)                40        \n",
      "                                                                 \n",
      " dense_1 (Dense)             (None, 20)                420       \n",
      "                                                                 \n",
      " dense_2 (Dense)             (None, 1)                 21        \n",
      "                                                                 \n",
      "=================================================================\n",
      "Total params: 481\n",
      "Trainable params: 481\n",
      "Non-trainable params: 0\n",
      "_________________________________________________________________\n",
      "*** PINN build & initialized ***\n"
     ]
    }
   ],
   "source": [
    "from model.neural_net import PhysicsInformedNN\n",
    "PINN = PhysicsInformedNN(config, verbose=True)"
   ]
  },
  {
   "cell_type": "markdown",
   "metadata": {},
   "source": [
    "### Train Physics-Informed Neural Network"
   ]
  },
  {
   "cell_type": "code",
   "execution_count": 3,
   "metadata": {
    "scrolled": true
   },
   "outputs": [
    {
     "name": "stdout",
     "output_type": "stream",
     "text": [
      "Training started...\n",
      "    0/10000 | loss: 1.61e-01\n",
      "  100/10000 | loss: 1.33e-02\n",
      "  200/10000 | loss: 1.01e-02\n",
      "  300/10000 | loss: 8.11e-03\n",
      "  400/10000 | loss: 7.07e-03\n",
      "  500/10000 | loss: 6.39e-03\n",
      "  600/10000 | loss: 5.51e-03\n",
      "  700/10000 | loss: 4.83e-03\n",
      "  800/10000 | loss: 4.21e-03\n",
      "  900/10000 | loss: 3.92e-03\n",
      " 1000/10000 | loss: 3.43e-03\n",
      " 1100/10000 | loss: 3.97e-03\n",
      " 1200/10000 | loss: 3.42e-03\n",
      " 1300/10000 | loss: 3.52e-03\n",
      " 1400/10000 | loss: 3.16e-03\n",
      " 1500/10000 | loss: 3.30e-03\n",
      " 1600/10000 | loss: 2.47e-03\n",
      " 1700/10000 | loss: 3.13e-03\n",
      " 1800/10000 | loss: 2.72e-03\n",
      " 1900/10000 | loss: 2.87e-03\n",
      " 2000/10000 | loss: 2.78e-03\n",
      " 2100/10000 | loss: 2.58e-03\n",
      " 2200/10000 | loss: 2.70e-03\n",
      " 2300/10000 | loss: 2.93e-03\n",
      " 2400/10000 | loss: 2.84e-03\n",
      " 2500/10000 | loss: 2.74e-03\n",
      " 2600/10000 | loss: 2.49e-03\n",
      " 2700/10000 | loss: 2.49e-03\n",
      " 2800/10000 | loss: 2.31e-03\n",
      " 2900/10000 | loss: 2.93e-03\n",
      " 3000/10000 | loss: 2.56e-03\n",
      " 3100/10000 | loss: 2.65e-03\n",
      " 3200/10000 | loss: 2.31e-03\n",
      " 3300/10000 | loss: 2.29e-03\n",
      " 3400/10000 | loss: 2.51e-03\n",
      " 3500/10000 | loss: 2.37e-03\n",
      " 3600/10000 | loss: 2.65e-03\n",
      " 3700/10000 | loss: 2.56e-03\n",
      " 3800/10000 | loss: 2.88e-03\n",
      " 3900/10000 | loss: 2.12e-03\n",
      " 4000/10000 | loss: 2.48e-03\n",
      " 4100/10000 | loss: 2.78e-03\n",
      " 4200/10000 | loss: 2.51e-03\n",
      " 4300/10000 | loss: 2.45e-03\n",
      " 4400/10000 | loss: 2.50e-03\n",
      " 4500/10000 | loss: 2.46e-03\n",
      " 4600/10000 | loss: 2.21e-03\n",
      " 4700/10000 | loss: 2.48e-03\n",
      " 4800/10000 | loss: 2.57e-03\n",
      " 4900/10000 | loss: 2.49e-03\n",
      " 5000/10000 | loss: 2.53e-03\n",
      " 5100/10000 | loss: 2.36e-03\n",
      " 5200/10000 | loss: 2.72e-03\n",
      " 5300/10000 | loss: 2.58e-03\n",
      " 5400/10000 | loss: 2.75e-03\n",
      " 5500/10000 | loss: 2.47e-03\n",
      " 5600/10000 | loss: 2.65e-03\n",
      " 5700/10000 | loss: 2.28e-03\n",
      " 5800/10000 | loss: 2.76e-03\n",
      " 5900/10000 | loss: 2.58e-03\n",
      " 6000/10000 | loss: 2.49e-03\n",
      " 6100/10000 | loss: 2.39e-03\n",
      " 6200/10000 | loss: 2.73e-03\n",
      " 6300/10000 | loss: 2.42e-03\n",
      " 6400/10000 | loss: 2.74e-03\n",
      " 6500/10000 | loss: 2.43e-03\n",
      " 6600/10000 | loss: 2.40e-03\n",
      " 6700/10000 | loss: 2.41e-03\n",
      " 6800/10000 | loss: 2.59e-03\n",
      " 6900/10000 | loss: 2.38e-03\n",
      " 7000/10000 | loss: 2.50e-03\n",
      " 7100/10000 | loss: 2.53e-03\n",
      " 7200/10000 | loss: 2.39e-03\n",
      " 7300/10000 | loss: 2.90e-03\n",
      " 7400/10000 | loss: 2.44e-03\n",
      " 7500/10000 | loss: 2.16e-03\n",
      " 7600/10000 | loss: 2.88e-03\n",
      " 7700/10000 | loss: 2.70e-03\n",
      " 7800/10000 | loss: 2.65e-03\n",
      " 7900/10000 | loss: 2.47e-03\n",
      " 8000/10000 | loss: 2.62e-03\n",
      " 8100/10000 | loss: 2.54e-03\n",
      " 8200/10000 | loss: 2.32e-03\n",
      " 8300/10000 | loss: 2.45e-03\n",
      " 8400/10000 | loss: 2.59e-03\n",
      " 8500/10000 | loss: 2.28e-03\n",
      " 8600/10000 | loss: 2.69e-03\n",
      " 8700/10000 | loss: 2.61e-03\n",
      " 8800/10000 | loss: 2.36e-03\n",
      " 8900/10000 | loss: 2.32e-03\n",
      " 9000/10000 | loss: 2.53e-03\n",
      " 9100/10000 | loss: 2.07e-03\n",
      " 9200/10000 | loss: 2.36e-03\n",
      " 9300/10000 | loss: 2.12e-03\n",
      " 9400/10000 | loss: 2.47e-03\n",
      " 9500/10000 | loss: 2.45e-03\n",
      " 9600/10000 | loss: 2.46e-03\n",
      " 9700/10000 | loss: 2.44e-03\n",
      " 9800/10000 | loss: 2.73e-03\n",
      " 9900/10000 | loss: 2.71e-03\n",
      "*** logs saved ***\n",
      "### Training finished ###\n"
     ]
    }
   ],
   "source": [
    "training_log = PINN.train()"
   ]
  },
  {
   "cell_type": "markdown",
   "metadata": {},
   "source": [
    "# Plot Section"
   ]
  },
  {
   "cell_type": "code",
   "execution_count": 4,
   "metadata": {},
   "outputs": [],
   "source": [
    "from model.plots import learning_curves, toy_example_dynamics"
   ]
  },
  {
   "cell_type": "markdown",
   "metadata": {},
   "source": [
    "### Learning Curves"
   ]
  },
  {
   "cell_type": "code",
   "execution_count": 5,
   "metadata": {},
   "outputs": [
    {
     "data": {
      "image/png": "[encoded data removed]",
      "text/plain": [
       "<Figure size 400x250 with 1 Axes>"
      ]
     },
     "metadata": {},
     "output_type": "display_data"
    }
   ],
   "source": [
    "learning_curves(training_log)"
   ]
  },
  {
   "cell_type": "markdown",
   "metadata": {},
   "source": [
    "### Toy Example Dynamics"
   ]
  },
  {
   "cell_type": "code",
   "execution_count": 6,
   "metadata": {},
   "outputs": [
    {
     "data": {
      "image/png": "[encoded data removed]",
      "text/plain": [
       "<Figure size 400x250 with 1 Axes>"
      ]
     },
     "metadata": {},
     "output_type": "display_data"
    }
   ],
   "source": [
    "toy_example_dynamics(PINN)"
   ]
  }
 ],
 "metadata": {
  "kernelspec": {
   "display_name": "Python 3",
   "language": "python",
   "name": "python3"
  },
  "language_info": {
   "codemirror_mode": {
    "name": "ipython",
    "version": 3
   },
   "file_extension": ".py",
   "mimetype": "text/x-python",
   "name": "python",
   "nbconvert_exporter": "python",
   "pygments_lexer": "ipython3",
   "version": "3.8.10"
  }
 },
 "nbformat": 4,
 "nbformat_minor": 2
}
