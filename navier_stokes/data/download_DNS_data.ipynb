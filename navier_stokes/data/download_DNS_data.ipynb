{
 "cells": [
  {
   "cell_type": "markdown",
   "metadata": {},
   "source": [
    "Credits go to:\n",
    "\n",
    "Boudina, Mouad. (2021). Numerical simulation data of a two-dimensional flow around a fixed circular cylinder [Data set]. Zenodo. https://doi.org/10.5281/zenodo.5039610"
   ]
  },
  {
   "cell_type": "code",
   "execution_count": null,
   "metadata": {},
   "outputs": [],
   "source": [
    "import requests\n",
    "import pandas as pd\n",
    "import time\n",
    "import numpy as np"
   ]
  },
  {
   "cell_type": "markdown",
   "metadata": {},
   "source": [
    "### Download DNS Data from URL"
   ]
  },
  {
   "cell_type": "code",
   "execution_count": null,
   "metadata": {},
   "outputs": [],
   "source": [
    "URL = \"https://zenodo.org/record/5039610/files/fixed_cylinder_atRe100?download=1\"\n",
    "response = requests.get(URL)\n",
    "open(\"fixed_cylinder_atRe100\", \"wb\").write(response.content)"
   ]
  },
  {
   "cell_type": "markdown",
   "metadata": {},
   "source": [
    "### Auxiliary Script to Process Downloaded Data File"
   ]
  },
  {
   "cell_type": "code",
   "execution_count": null,
   "metadata": {},
   "outputs": [],
   "source": [
    "def floatIt(l):\n",
    "    return np.array([float(e) for e in l])\n",
    "\n",
    "def intIt(l):\n",
    "    return np.array([int(e) for e in l])\n",
    "\n",
    "def read_flow(infile):\n",
    "    f = open(infile, 'r')\n",
    "    t1 = time.time()\n",
    "    print('Reading flow...')\n",
    "\n",
    "    Re, Ur = floatIt(f.readline().strip().split())\n",
    "    f.readline() # blank line\n",
    "    Nt, N_nodes = intIt(f.readline().strip().split())\n",
    "    f.readline()\n",
    "    \n",
    "    times = []\n",
    "    nodes_X, nodes_Y = [], []\n",
    "    Us, Vs, ps = [], [], []\n",
    "\n",
    "    for n in range(Nt):\n",
    "        tn = float(f.readline().strip())\n",
    "        times.append(tn)\n",
    "\n",
    "        print('%.3f' % tn)\n",
    "\n",
    "        tmp_nodes_X, tmp_nodes_Y = [], []\n",
    "        tmp_Us, tmp_Vs, tmp_ps = [], [], []\n",
    "\n",
    "        for k in range(N_nodes):\n",
    "            x, y, U, V, p = floatIt(f.readline().strip().split())\n",
    "\n",
    "            tmp_nodes_X.append(x)\n",
    "            tmp_nodes_Y.append(y)\n",
    "\n",
    "            tmp_Us.append(U)\n",
    "            tmp_Vs.append(V)\n",
    "            tmp_ps.append(p)\n",
    "\n",
    "        nodes_X.append(tmp_nodes_X)\n",
    "        nodes_Y.append(tmp_nodes_Y)\n",
    "\n",
    "        Us.append(tmp_Us)\n",
    "        Vs.append(tmp_Vs)\n",
    "        ps.append(tmp_ps)\n",
    "\n",
    "    cpu_time = time.time() - t1\n",
    "    print('Done!')\n",
    "    print('CPU_TIME = %f seconds' % cpu_time)\n",
    "\n",
    "    f.close()\n",
    "\n",
    "    return Re, Ur, np.array(times), \\\n",
    "           np.array(nodes_X), np.array(nodes_Y), \\\n",
    "           np.array(Us), np.array(Vs), np.array(ps)"
   ]
  },
  {
   "cell_type": "markdown",
   "metadata": {},
   "source": [
    "### Process File"
   ]
  },
  {
   "cell_type": "code",
   "execution_count": null,
   "metadata": {},
   "outputs": [],
   "source": [
    "Re, Ur, times, nodes_X, nodes_Y, Us, Vs, ps = read_flow('fixed_cylinder_atRe100')\n",
    "N_nodes = nodes_X.shape[1]\n",
    "t_min = min(times)\n",
    "X = nodes_X[1]\n",
    "Y = nodes_Y[1]"
   ]
  },
  {
   "cell_type": "markdown",
   "metadata": {},
   "source": [
    "### Data to (Pandas) CSV File"
   ]
  },
  {
   "cell_type": "code",
   "execution_count": null,
   "metadata": {},
   "outputs": [],
   "source": [
    "dataframe = []\n",
    "for i, t in enumerate(times):\n",
    "    for node in range(N_nodes):\n",
    "        row = [t-t_min, nodes_X[i][node], nodes_Y[i][node], Us[i][node], Vs[i][node], ps[i][node]]\n",
    "        dataframe.append(row)\n",
    "        \n",
    "dataframe = pd.DataFrame(dataframe, columns=['t', 'x', 'y', 'u', 'v', 'p'])\n",
    "dataframe.to_csv('navier_stokes.csv', index=False)"
   ]
  }
 ],
 "metadata": {
  "kernelspec": {
   "display_name": "Python 3",
   "language": "python",
   "name": "python3"
  },
  "language_info": {
   "codemirror_mode": {
    "name": "ipython",
    "version": 3
   },
   "file_extension": ".py",
   "mimetype": "text/x-python",
   "name": "python",
   "nbconvert_exporter": "python",
   "pygments_lexer": "ipython3",
   "version": "3.8.10"
  }
 },
 "nbformat": 4,
 "nbformat_minor": 2
}
